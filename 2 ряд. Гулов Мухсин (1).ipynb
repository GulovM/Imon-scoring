{
 "cells": [
  {
   "cell_type": "code",
   "execution_count": 84,
   "id": "76abf279",
   "metadata": {},
   "outputs": [],
   "source": [
    "import pandas as pd\n",
    "import numpy as np\n",
    "from sklearn.model_selection import train_test_split\n",
    "from sklearn.linear_model import LogisticRegression\n",
    "from sklearn import metrics\n",
    "import matplotlib.pyplot as plt\n",
    "import seaborn as sns\n",
    "import streamlit as st\n",
    "from sklearn.preprocessing import StandardScaler\n",
    "from sklearn.neighbors import KNeighborsClassifier\n",
    "from sklearn.metrics import confusion_matrix, precision_score \n",
    "from sklearn.metrics import classification_report\n",
    "from sklearn.tree import DecisionTreeClassifier\n",
    "from sklearn.metrics import accuracy_score\n",
    "from sklearn.ensemble import RandomForestClassifier\n",
    "import pickle"
   ]
  },
  {
   "cell_type": "code",
   "execution_count": 85,
   "id": "9a11b966",
   "metadata": {},
   "outputs": [],
   "source": [
    "data = pd.read_excel(\"Imon.xlsx\")"
   ]
  },
  {
   "cell_type": "code",
   "execution_count": 86,
   "id": "7b0baa07",
   "metadata": {},
   "outputs": [
    {
     "data": {
      "text/html": [
       "<div>\n",
       "<style scoped>\n",
       "    .dataframe tbody tr th:only-of-type {\n",
       "        vertical-align: middle;\n",
       "    }\n",
       "\n",
       "    .dataframe tbody tr th {\n",
       "        vertical-align: top;\n",
       "    }\n",
       "\n",
       "    .dataframe thead th {\n",
       "        text-align: right;\n",
       "    }\n",
       "</style>\n",
       "<table border=\"1\" class=\"dataframe\">\n",
       "  <thead>\n",
       "    <tr style=\"text-align: right;\">\n",
       "      <th></th>\n",
       "      <th>Пол</th>\n",
       "      <th>Возраст</th>\n",
       "      <th>Семейное положение</th>\n",
       "      <th>Национальность</th>\n",
       "      <th>Повторный клиент</th>\n",
       "      <th>Сумма выдачи номинал</th>\n",
       "      <th>Дата выдачи</th>\n",
       "      <th>Дата окончание срока</th>\n",
       "      <th>Валюта</th>\n",
       "      <th>Срок</th>\n",
       "      <th>Тип залога</th>\n",
       "      <th>Образование</th>\n",
       "      <th>Тип бизнеса</th>\n",
       "      <th>Цель кредита</th>\n",
       "      <th>Просрочки за цикл (кумулятивный)</th>\n",
       "      <th>Длительность самой долгой единовременной просрочки в течение цикла</th>\n",
       "      <th>Просрочки на дату 07.06.2021</th>\n",
       "      <th>Льготный период</th>\n",
       "      <th>Дата списания</th>\n",
       "      <th>Сумма списания</th>\n",
       "    </tr>\n",
       "  </thead>\n",
       "  <tbody>\n",
       "    <tr>\n",
       "      <th>0</th>\n",
       "      <td>Жен</td>\n",
       "      <td>18.05.1994</td>\n",
       "      <td>Single</td>\n",
       "      <td>Таджик</td>\n",
       "      <td>Старый клиент</td>\n",
       "      <td>2000</td>\n",
       "      <td>13.11.2018</td>\n",
       "      <td>13.11.2019</td>\n",
       "      <td>TJS</td>\n",
       "      <td>12</td>\n",
       "      <td>Ювелирные изделия</td>\n",
       "      <td>Среднее образование</td>\n",
       "      <td>3. Хизматрасони/Услуги</td>\n",
       "      <td>Потребительские цели</td>\n",
       "      <td>0</td>\n",
       "      <td>0</td>\n",
       "      <td>0</td>\n",
       "      <td>0</td>\n",
       "      <td>00.00.0000</td>\n",
       "      <td>NaN</td>\n",
       "    </tr>\n",
       "    <tr>\n",
       "      <th>1</th>\n",
       "      <td>Муж</td>\n",
       "      <td>30.01.1977</td>\n",
       "      <td>Divorced</td>\n",
       "      <td>Таджик</td>\n",
       "      <td>Старый клиент</td>\n",
       "      <td>20000</td>\n",
       "      <td>19.11.2018</td>\n",
       "      <td>19.11.2020</td>\n",
       "      <td>TJS</td>\n",
       "      <td>24</td>\n",
       "      <td>Смешанное обеспечение</td>\n",
       "      <td>Высшее образование</td>\n",
       "      <td>1. Карзи истеъмоли/Потребительский кредит</td>\n",
       "      <td>Потребительские цели</td>\n",
       "      <td>36</td>\n",
       "      <td>16</td>\n",
       "      <td>0</td>\n",
       "      <td>0</td>\n",
       "      <td>00.00.0000</td>\n",
       "      <td>NaN</td>\n",
       "    </tr>\n",
       "    <tr>\n",
       "      <th>2</th>\n",
       "      <td>Муж</td>\n",
       "      <td>12.10.1965</td>\n",
       "      <td>Married</td>\n",
       "      <td>Таджик</td>\n",
       "      <td>Старый клиент</td>\n",
       "      <td>3000</td>\n",
       "      <td>29.11.2018</td>\n",
       "      <td>29.11.2019</td>\n",
       "      <td>TJS</td>\n",
       "      <td>12</td>\n",
       "      <td>Поручительство</td>\n",
       "      <td>Высшее образование</td>\n",
       "      <td>1. Карзи истеъмоли/Потребительский кредит</td>\n",
       "      <td>Потребительские цели</td>\n",
       "      <td>1</td>\n",
       "      <td>1</td>\n",
       "      <td>0</td>\n",
       "      <td>0</td>\n",
       "      <td>00.00.0000</td>\n",
       "      <td>NaN</td>\n",
       "    </tr>\n",
       "    <tr>\n",
       "      <th>3</th>\n",
       "      <td>Жен</td>\n",
       "      <td>01.03.1970</td>\n",
       "      <td>Married</td>\n",
       "      <td>Таджик</td>\n",
       "      <td>Старый клиент</td>\n",
       "      <td>2000</td>\n",
       "      <td>11.12.2018</td>\n",
       "      <td>11.12.2019</td>\n",
       "      <td>TJS</td>\n",
       "      <td>12</td>\n",
       "      <td>Поручительство</td>\n",
       "      <td>Среднее образование</td>\n",
       "      <td>1. Карзи истеъмоли/Потребительский кредит</td>\n",
       "      <td>Потребительские цели</td>\n",
       "      <td>0</td>\n",
       "      <td>0</td>\n",
       "      <td>0</td>\n",
       "      <td>0</td>\n",
       "      <td>00.00.0000</td>\n",
       "      <td>NaN</td>\n",
       "    </tr>\n",
       "    <tr>\n",
       "      <th>4</th>\n",
       "      <td>Муж</td>\n",
       "      <td>07.02.1992</td>\n",
       "      <td>Married</td>\n",
       "      <td>Таджик</td>\n",
       "      <td>Новый клиент</td>\n",
       "      <td>5000</td>\n",
       "      <td>08.02.2019</td>\n",
       "      <td>10.02.2020</td>\n",
       "      <td>TJS</td>\n",
       "      <td>12</td>\n",
       "      <td>Поручительство</td>\n",
       "      <td>Среднее образование</td>\n",
       "      <td>3. Хизматрасони/Услуги</td>\n",
       "      <td>Потребительские цели</td>\n",
       "      <td>6</td>\n",
       "      <td>3</td>\n",
       "      <td>0</td>\n",
       "      <td>0</td>\n",
       "      <td>00.00.0000</td>\n",
       "      <td>NaN</td>\n",
       "    </tr>\n",
       "    <tr>\n",
       "      <th>...</th>\n",
       "      <td>...</td>\n",
       "      <td>...</td>\n",
       "      <td>...</td>\n",
       "      <td>...</td>\n",
       "      <td>...</td>\n",
       "      <td>...</td>\n",
       "      <td>...</td>\n",
       "      <td>...</td>\n",
       "      <td>...</td>\n",
       "      <td>...</td>\n",
       "      <td>...</td>\n",
       "      <td>...</td>\n",
       "      <td>...</td>\n",
       "      <td>...</td>\n",
       "      <td>...</td>\n",
       "      <td>...</td>\n",
       "      <td>...</td>\n",
       "      <td>...</td>\n",
       "      <td>...</td>\n",
       "      <td>...</td>\n",
       "    </tr>\n",
       "    <tr>\n",
       "      <th>2994</th>\n",
       "      <td>Муж</td>\n",
       "      <td>17.05.1993</td>\n",
       "      <td>Married</td>\n",
       "      <td>Таджик</td>\n",
       "      <td>Старый клиент</td>\n",
       "      <td>9000</td>\n",
       "      <td>20.08.2019</td>\n",
       "      <td>20.08.2021</td>\n",
       "      <td>TJS</td>\n",
       "      <td>24</td>\n",
       "      <td>Поручительство</td>\n",
       "      <td>Высшее образование</td>\n",
       "      <td>3. Хизматрасони/Услуги</td>\n",
       "      <td>Потребительские цели</td>\n",
       "      <td>0</td>\n",
       "      <td>0</td>\n",
       "      <td>0</td>\n",
       "      <td>0</td>\n",
       "      <td>00.00.0000</td>\n",
       "      <td>NaN</td>\n",
       "    </tr>\n",
       "    <tr>\n",
       "      <th>2995</th>\n",
       "      <td>Муж</td>\n",
       "      <td>09.10.1973</td>\n",
       "      <td>Married</td>\n",
       "      <td>Таджик</td>\n",
       "      <td>Старый клиент</td>\n",
       "      <td>15000</td>\n",
       "      <td>20.08.2019</td>\n",
       "      <td>20.08.2020</td>\n",
       "      <td>TJS</td>\n",
       "      <td>12</td>\n",
       "      <td>Поручительство</td>\n",
       "      <td>Среднее образование</td>\n",
       "      <td>1. Карзи истеъмоли/Потребительский кредит</td>\n",
       "      <td>Потребительские цели</td>\n",
       "      <td>10</td>\n",
       "      <td>6</td>\n",
       "      <td>0</td>\n",
       "      <td>0</td>\n",
       "      <td>00.00.0000</td>\n",
       "      <td>NaN</td>\n",
       "    </tr>\n",
       "    <tr>\n",
       "      <th>2996</th>\n",
       "      <td>Жен</td>\n",
       "      <td>17.11.1971</td>\n",
       "      <td>Married</td>\n",
       "      <td>Таджик</td>\n",
       "      <td>Старый клиент</td>\n",
       "      <td>5000</td>\n",
       "      <td>26.08.2019</td>\n",
       "      <td>26.08.2020</td>\n",
       "      <td>TJS</td>\n",
       "      <td>12</td>\n",
       "      <td>Не обеспеченный</td>\n",
       "      <td>Среднее образование</td>\n",
       "      <td>1. Карзи истеъмоли/Потребительский кредит</td>\n",
       "      <td>Потребительские цели</td>\n",
       "      <td>5</td>\n",
       "      <td>5</td>\n",
       "      <td>0</td>\n",
       "      <td>0</td>\n",
       "      <td>00.00.0000</td>\n",
       "      <td>NaN</td>\n",
       "    </tr>\n",
       "    <tr>\n",
       "      <th>2997</th>\n",
       "      <td>Жен</td>\n",
       "      <td>04.10.1979</td>\n",
       "      <td>Married</td>\n",
       "      <td>Таджик</td>\n",
       "      <td>Старый клиент</td>\n",
       "      <td>15000</td>\n",
       "      <td>22.08.2019</td>\n",
       "      <td>23.08.2021</td>\n",
       "      <td>TJS</td>\n",
       "      <td>24</td>\n",
       "      <td>Поручительство</td>\n",
       "      <td>Среднее образование</td>\n",
       "      <td>4. Савдо / Торговля</td>\n",
       "      <td>Потребительские цели</td>\n",
       "      <td>4</td>\n",
       "      <td>2</td>\n",
       "      <td>0</td>\n",
       "      <td>0</td>\n",
       "      <td>00.00.0000</td>\n",
       "      <td>NaN</td>\n",
       "    </tr>\n",
       "    <tr>\n",
       "      <th>2998</th>\n",
       "      <td>Муж</td>\n",
       "      <td>18.06.1994</td>\n",
       "      <td>Married</td>\n",
       "      <td>Таджик</td>\n",
       "      <td>Старый клиент</td>\n",
       "      <td>10000</td>\n",
       "      <td>10.09.2019</td>\n",
       "      <td>10.03.2021</td>\n",
       "      <td>TJS</td>\n",
       "      <td>18</td>\n",
       "      <td>Поручительство</td>\n",
       "      <td>Среднее образование</td>\n",
       "      <td>3. Хизматрасони/Услуги</td>\n",
       "      <td>Потребительские цели</td>\n",
       "      <td>45</td>\n",
       "      <td>15</td>\n",
       "      <td>0</td>\n",
       "      <td>0</td>\n",
       "      <td>00.00.0000</td>\n",
       "      <td>NaN</td>\n",
       "    </tr>\n",
       "  </tbody>\n",
       "</table>\n",
       "<p>2999 rows × 20 columns</p>\n",
       "</div>"
      ],
      "text/plain": [
       "      Пол     Возраст Семейное положение Национальность Повторный клиент  \\\n",
       "0     Жен  18.05.1994             Single         Таджик    Старый клиент   \n",
       "1     Муж  30.01.1977           Divorced         Таджик    Старый клиент   \n",
       "2     Муж  12.10.1965            Married         Таджик    Старый клиент   \n",
       "3     Жен  01.03.1970            Married         Таджик    Старый клиент   \n",
       "4     Муж  07.02.1992            Married         Таджик     Новый клиент   \n",
       "...   ...         ...                ...            ...              ...   \n",
       "2994  Муж  17.05.1993            Married         Таджик    Старый клиент   \n",
       "2995  Муж  09.10.1973            Married         Таджик    Старый клиент   \n",
       "2996  Жен  17.11.1971            Married         Таджик    Старый клиент   \n",
       "2997  Жен  04.10.1979            Married         Таджик    Старый клиент   \n",
       "2998  Муж  18.06.1994            Married         Таджик    Старый клиент   \n",
       "\n",
       "      Сумма выдачи номинал Дата выдачи Дата окончание срока Валюта  Срок  \\\n",
       "0                     2000  13.11.2018           13.11.2019    TJS    12   \n",
       "1                    20000  19.11.2018           19.11.2020    TJS    24   \n",
       "2                     3000  29.11.2018           29.11.2019    TJS    12   \n",
       "3                     2000  11.12.2018           11.12.2019    TJS    12   \n",
       "4                     5000  08.02.2019           10.02.2020    TJS    12   \n",
       "...                    ...         ...                  ...    ...   ...   \n",
       "2994                  9000  20.08.2019           20.08.2021    TJS    24   \n",
       "2995                 15000  20.08.2019           20.08.2020    TJS    12   \n",
       "2996                  5000  26.08.2019           26.08.2020    TJS    12   \n",
       "2997                 15000  22.08.2019           23.08.2021    TJS    24   \n",
       "2998                 10000  10.09.2019           10.03.2021    TJS    18   \n",
       "\n",
       "                 Тип залога          Образование  \\\n",
       "0         Ювелирные изделия  Среднее образование   \n",
       "1     Смешанное обеспечение   Высшее образование   \n",
       "2            Поручительство   Высшее образование   \n",
       "3            Поручительство  Среднее образование   \n",
       "4            Поручительство  Среднее образование   \n",
       "...                     ...                  ...   \n",
       "2994         Поручительство   Высшее образование   \n",
       "2995         Поручительство  Среднее образование   \n",
       "2996        Не обеспеченный  Среднее образование   \n",
       "2997         Поручительство  Среднее образование   \n",
       "2998         Поручительство  Среднее образование   \n",
       "\n",
       "                                    Тип бизнеса          Цель кредита  \\\n",
       "0                        3. Хизматрасони/Услуги  Потребительские цели   \n",
       "1     1. Карзи истеъмоли/Потребительский кредит  Потребительские цели   \n",
       "2     1. Карзи истеъмоли/Потребительский кредит  Потребительские цели   \n",
       "3     1. Карзи истеъмоли/Потребительский кредит  Потребительские цели   \n",
       "4                        3. Хизматрасони/Услуги  Потребительские цели   \n",
       "...                                         ...                   ...   \n",
       "2994                     3. Хизматрасони/Услуги  Потребительские цели   \n",
       "2995  1. Карзи истеъмоли/Потребительский кредит  Потребительские цели   \n",
       "2996  1. Карзи истеъмоли/Потребительский кредит  Потребительские цели   \n",
       "2997                        4. Савдо / Торговля  Потребительские цели   \n",
       "2998                     3. Хизматрасони/Услуги  Потребительские цели   \n",
       "\n",
       "      Просрочки за цикл (кумулятивный)  \\\n",
       "0                                    0   \n",
       "1                                   36   \n",
       "2                                    1   \n",
       "3                                    0   \n",
       "4                                    6   \n",
       "...                                ...   \n",
       "2994                                 0   \n",
       "2995                                10   \n",
       "2996                                 5   \n",
       "2997                                 4   \n",
       "2998                                45   \n",
       "\n",
       "      Длительность самой долгой единовременной просрочки в течение цикла  \\\n",
       "0                                                     0                    \n",
       "1                                                    16                    \n",
       "2                                                     1                    \n",
       "3                                                     0                    \n",
       "4                                                     3                    \n",
       "...                                                 ...                    \n",
       "2994                                                  0                    \n",
       "2995                                                  6                    \n",
       "2996                                                  5                    \n",
       "2997                                                  2                    \n",
       "2998                                                 15                    \n",
       "\n",
       "      Просрочки на дату 07.06.2021  Льготный период Дата списания  \\\n",
       "0                                0                0    00.00.0000   \n",
       "1                                0                0    00.00.0000   \n",
       "2                                0                0    00.00.0000   \n",
       "3                                0                0    00.00.0000   \n",
       "4                                0                0    00.00.0000   \n",
       "...                            ...              ...           ...   \n",
       "2994                             0                0    00.00.0000   \n",
       "2995                             0                0    00.00.0000   \n",
       "2996                             0                0    00.00.0000   \n",
       "2997                             0                0    00.00.0000   \n",
       "2998                             0                0    00.00.0000   \n",
       "\n",
       "      Сумма списания  \n",
       "0                NaN  \n",
       "1                NaN  \n",
       "2                NaN  \n",
       "3                NaN  \n",
       "4                NaN  \n",
       "...              ...  \n",
       "2994             NaN  \n",
       "2995             NaN  \n",
       "2996             NaN  \n",
       "2997             NaN  \n",
       "2998             NaN  \n",
       "\n",
       "[2999 rows x 20 columns]"
      ]
     },
     "execution_count": 86,
     "metadata": {},
     "output_type": "execute_result"
    }
   ],
   "source": [
    "data"
   ]
  },
  {
   "cell_type": "code",
   "execution_count": 87,
   "id": "20d3ac63",
   "metadata": {},
   "outputs": [
    {
     "data": {
      "text/plain": [
       "Index(['Пол', 'Возраст', 'Семейное положение', 'Национальность',\n",
       "       'Повторный клиент', 'Сумма выдачи номинал', 'Дата выдачи',\n",
       "       'Дата окончание срока', 'Валюта', 'Срок', 'Тип залога', 'Образование',\n",
       "       'Тип бизнеса', 'Цель кредита', 'Просрочки за цикл (кумулятивный)',\n",
       "       'Длительность самой долгой единовременной просрочки в течение цикла',\n",
       "       'Просрочки на дату 07.06.2021', 'Льготный период', 'Дата списания',\n",
       "       'Сумма списания'],\n",
       "      dtype='object')"
      ]
     },
     "execution_count": 87,
     "metadata": {},
     "output_type": "execute_result"
    }
   ],
   "source": [
    "data.columns"
   ]
  },
  {
   "cell_type": "code",
   "execution_count": 88,
   "id": "93975d90",
   "metadata": {},
   "outputs": [],
   "source": [
    "from sklearn.preprocessing import LabelEncoder\n",
    "df = pd.DataFrame(data)\n",
    "\n",
    "# Примените LabelEncoder к каждому столбцу с типом \"объект\", кроме \"Семейное положение\"\n",
    "encoder = LabelEncoder()\n",
    "df['Пол'] = encoder.fit_transform(df['Пол'])\n",
    "df['Повторный клиент'] = encoder.fit_transform(df['Повторный клиент'])\n",
    "df['Валюта'] = encoder.fit_transform(df['Валюта'])\n",
    "df['Тип залога'] = encoder.fit_transform(df['Тип залога'])\n",
    "df['Образование'] = encoder.fit_transform(df['Образование'])\n",
    "df['Тип бизнеса'] = encoder.fit_transform(df['Тип бизнеса'])\n",
    "df['Цель кредита'] = encoder.fit_transform(df['Цель кредита'])\n",
    "\n",
    "# Преобразуйте столбец \"Семейное положение\" с использованием pd.factorize\n",
    "df['Семейное положение'] = pd.factorize(df['Семейное положение'])[0]"
   ]
  },
  {
   "cell_type": "code",
   "execution_count": 89,
   "id": "0d65c35f",
   "metadata": {},
   "outputs": [],
   "source": [
    "data.loc[data['Длительность самой долгой единовременной просрочки в течение цикла']>15, 'Выдача']=0\n",
    "data.loc[data['Длительность самой долгой единовременной просрочки в течение цикла']<=15, 'Выдача']=1\n"
   ]
  },
  {
   "cell_type": "code",
   "execution_count": 90,
   "id": "6ce2c35f",
   "metadata": {},
   "outputs": [
    {
     "name": "stderr",
     "output_type": "stream",
     "text": [
      "C:\\Users\\extre\\AppData\\Local\\Temp\\ipykernel_22856\\2314203767.py:6: UserWarning: Parsing dates in DD/MM/YYYY format when dayfirst=False (the default) was specified. This may lead to inconsistently parsed dates! Specify a format to ensure consistent parsing.\n",
      "  df['Возраст'] = pd.to_datetime(df['Возраст'])\n"
     ]
    }
   ],
   "source": [
    "from datetime import datetime\n",
    "\n",
    "df = pd.DataFrame(data)\n",
    "\n",
    "# Преобразуем столбец 'Date_of_Birth' в формат datetime\n",
    "df['Возраст'] = pd.to_datetime(df['Возраст'])\n",
    "\n",
    "# Получаем текущую дату\n",
    "current_date = datetime.now()\n",
    "\n",
    "# Вычисляем возраст и добавляем его в новый столбец 'Age'\n",
    "df['Возраст_код'] = (current_date - df['Возраст']).astype('<m8[Y]')"
   ]
  },
  {
   "cell_type": "code",
   "execution_count": 91,
   "id": "37d1f596",
   "metadata": {},
   "outputs": [],
   "source": [
    "data=data.drop(['Национальность','Валюта','Возраст','Тип залога','Цель кредита','Просрочки за цикл (кумулятивный)','Длительность самой долгой единовременной просрочки в течение цикла','Сумма списания','Льготный период','Просрочки на дату 07.06.2021'], axis=1)"
   ]
  },
  {
   "cell_type": "code",
   "execution_count": 92,
   "id": "ff88202a",
   "metadata": {},
   "outputs": [],
   "source": [
    "data=data.drop('Дата выдачи', axis=1)"
   ]
  },
  {
   "cell_type": "code",
   "execution_count": 93,
   "id": "3e89936b",
   "metadata": {},
   "outputs": [
    {
     "data": {
      "text/html": [
       "<div>\n",
       "<style scoped>\n",
       "    .dataframe tbody tr th:only-of-type {\n",
       "        vertical-align: middle;\n",
       "    }\n",
       "\n",
       "    .dataframe tbody tr th {\n",
       "        vertical-align: top;\n",
       "    }\n",
       "\n",
       "    .dataframe thead th {\n",
       "        text-align: right;\n",
       "    }\n",
       "</style>\n",
       "<table border=\"1\" class=\"dataframe\">\n",
       "  <thead>\n",
       "    <tr style=\"text-align: right;\">\n",
       "      <th></th>\n",
       "      <th>Пол</th>\n",
       "      <th>Семейное положение</th>\n",
       "      <th>Повторный клиент</th>\n",
       "      <th>Сумма выдачи номинал</th>\n",
       "      <th>Дата окончание срока</th>\n",
       "      <th>Срок</th>\n",
       "      <th>Образование</th>\n",
       "      <th>Тип бизнеса</th>\n",
       "      <th>Дата списания</th>\n",
       "      <th>Выдача</th>\n",
       "      <th>Возраст_код</th>\n",
       "    </tr>\n",
       "  </thead>\n",
       "  <tbody>\n",
       "    <tr>\n",
       "      <th>0</th>\n",
       "      <td>0</td>\n",
       "      <td>0</td>\n",
       "      <td>1</td>\n",
       "      <td>2000</td>\n",
       "      <td>13.11.2019</td>\n",
       "      <td>12</td>\n",
       "      <td>5</td>\n",
       "      <td>2</td>\n",
       "      <td>00.00.0000</td>\n",
       "      <td>1.0</td>\n",
       "      <td>29.0</td>\n",
       "    </tr>\n",
       "    <tr>\n",
       "      <th>1</th>\n",
       "      <td>1</td>\n",
       "      <td>1</td>\n",
       "      <td>1</td>\n",
       "      <td>20000</td>\n",
       "      <td>19.11.2020</td>\n",
       "      <td>24</td>\n",
       "      <td>1</td>\n",
       "      <td>0</td>\n",
       "      <td>00.00.0000</td>\n",
       "      <td>0.0</td>\n",
       "      <td>46.0</td>\n",
       "    </tr>\n",
       "    <tr>\n",
       "      <th>2</th>\n",
       "      <td>1</td>\n",
       "      <td>2</td>\n",
       "      <td>1</td>\n",
       "      <td>3000</td>\n",
       "      <td>29.11.2019</td>\n",
       "      <td>12</td>\n",
       "      <td>1</td>\n",
       "      <td>0</td>\n",
       "      <td>00.00.0000</td>\n",
       "      <td>1.0</td>\n",
       "      <td>57.0</td>\n",
       "    </tr>\n",
       "    <tr>\n",
       "      <th>3</th>\n",
       "      <td>0</td>\n",
       "      <td>2</td>\n",
       "      <td>1</td>\n",
       "      <td>2000</td>\n",
       "      <td>11.12.2019</td>\n",
       "      <td>12</td>\n",
       "      <td>5</td>\n",
       "      <td>0</td>\n",
       "      <td>00.00.0000</td>\n",
       "      <td>1.0</td>\n",
       "      <td>53.0</td>\n",
       "    </tr>\n",
       "    <tr>\n",
       "      <th>4</th>\n",
       "      <td>1</td>\n",
       "      <td>2</td>\n",
       "      <td>0</td>\n",
       "      <td>5000</td>\n",
       "      <td>10.02.2020</td>\n",
       "      <td>12</td>\n",
       "      <td>5</td>\n",
       "      <td>2</td>\n",
       "      <td>00.00.0000</td>\n",
       "      <td>1.0</td>\n",
       "      <td>31.0</td>\n",
       "    </tr>\n",
       "    <tr>\n",
       "      <th>...</th>\n",
       "      <td>...</td>\n",
       "      <td>...</td>\n",
       "      <td>...</td>\n",
       "      <td>...</td>\n",
       "      <td>...</td>\n",
       "      <td>...</td>\n",
       "      <td>...</td>\n",
       "      <td>...</td>\n",
       "      <td>...</td>\n",
       "      <td>...</td>\n",
       "      <td>...</td>\n",
       "    </tr>\n",
       "    <tr>\n",
       "      <th>2994</th>\n",
       "      <td>1</td>\n",
       "      <td>2</td>\n",
       "      <td>1</td>\n",
       "      <td>9000</td>\n",
       "      <td>20.08.2021</td>\n",
       "      <td>24</td>\n",
       "      <td>1</td>\n",
       "      <td>2</td>\n",
       "      <td>00.00.0000</td>\n",
       "      <td>1.0</td>\n",
       "      <td>30.0</td>\n",
       "    </tr>\n",
       "    <tr>\n",
       "      <th>2995</th>\n",
       "      <td>1</td>\n",
       "      <td>2</td>\n",
       "      <td>1</td>\n",
       "      <td>15000</td>\n",
       "      <td>20.08.2020</td>\n",
       "      <td>12</td>\n",
       "      <td>5</td>\n",
       "      <td>0</td>\n",
       "      <td>00.00.0000</td>\n",
       "      <td>1.0</td>\n",
       "      <td>50.0</td>\n",
       "    </tr>\n",
       "    <tr>\n",
       "      <th>2996</th>\n",
       "      <td>0</td>\n",
       "      <td>2</td>\n",
       "      <td>1</td>\n",
       "      <td>5000</td>\n",
       "      <td>26.08.2020</td>\n",
       "      <td>12</td>\n",
       "      <td>5</td>\n",
       "      <td>0</td>\n",
       "      <td>00.00.0000</td>\n",
       "      <td>1.0</td>\n",
       "      <td>51.0</td>\n",
       "    </tr>\n",
       "    <tr>\n",
       "      <th>2997</th>\n",
       "      <td>0</td>\n",
       "      <td>2</td>\n",
       "      <td>1</td>\n",
       "      <td>15000</td>\n",
       "      <td>23.08.2021</td>\n",
       "      <td>24</td>\n",
       "      <td>5</td>\n",
       "      <td>3</td>\n",
       "      <td>00.00.0000</td>\n",
       "      <td>1.0</td>\n",
       "      <td>44.0</td>\n",
       "    </tr>\n",
       "    <tr>\n",
       "      <th>2998</th>\n",
       "      <td>1</td>\n",
       "      <td>2</td>\n",
       "      <td>1</td>\n",
       "      <td>10000</td>\n",
       "      <td>10.03.2021</td>\n",
       "      <td>18</td>\n",
       "      <td>5</td>\n",
       "      <td>2</td>\n",
       "      <td>00.00.0000</td>\n",
       "      <td>1.0</td>\n",
       "      <td>29.0</td>\n",
       "    </tr>\n",
       "  </tbody>\n",
       "</table>\n",
       "<p>2999 rows × 11 columns</p>\n",
       "</div>"
      ],
      "text/plain": [
       "      Пол  Семейное положение  Повторный клиент  Сумма выдачи номинал  \\\n",
       "0       0                   0                 1                  2000   \n",
       "1       1                   1                 1                 20000   \n",
       "2       1                   2                 1                  3000   \n",
       "3       0                   2                 1                  2000   \n",
       "4       1                   2                 0                  5000   \n",
       "...   ...                 ...               ...                   ...   \n",
       "2994    1                   2                 1                  9000   \n",
       "2995    1                   2                 1                 15000   \n",
       "2996    0                   2                 1                  5000   \n",
       "2997    0                   2                 1                 15000   \n",
       "2998    1                   2                 1                 10000   \n",
       "\n",
       "     Дата окончание срока  Срок  Образование  Тип бизнеса Дата списания  \\\n",
       "0              13.11.2019    12            5            2    00.00.0000   \n",
       "1              19.11.2020    24            1            0    00.00.0000   \n",
       "2              29.11.2019    12            1            0    00.00.0000   \n",
       "3              11.12.2019    12            5            0    00.00.0000   \n",
       "4              10.02.2020    12            5            2    00.00.0000   \n",
       "...                   ...   ...          ...          ...           ...   \n",
       "2994           20.08.2021    24            1            2    00.00.0000   \n",
       "2995           20.08.2020    12            5            0    00.00.0000   \n",
       "2996           26.08.2020    12            5            0    00.00.0000   \n",
       "2997           23.08.2021    24            5            3    00.00.0000   \n",
       "2998           10.03.2021    18            5            2    00.00.0000   \n",
       "\n",
       "      Выдача  Возраст_код  \n",
       "0        1.0         29.0  \n",
       "1        0.0         46.0  \n",
       "2        1.0         57.0  \n",
       "3        1.0         53.0  \n",
       "4        1.0         31.0  \n",
       "...      ...          ...  \n",
       "2994     1.0         30.0  \n",
       "2995     1.0         50.0  \n",
       "2996     1.0         51.0  \n",
       "2997     1.0         44.0  \n",
       "2998     1.0         29.0  \n",
       "\n",
       "[2999 rows x 11 columns]"
      ]
     },
     "execution_count": 93,
     "metadata": {},
     "output_type": "execute_result"
    }
   ],
   "source": [
    "data"
   ]
  },
  {
   "cell_type": "code",
   "execution_count": 94,
   "id": "fa0dd062",
   "metadata": {},
   "outputs": [
    {
     "name": "stdout",
     "output_type": "stream",
     "text": [
      "<class 'pandas.core.frame.DataFrame'>\n",
      "RangeIndex: 2999 entries, 0 to 2998\n",
      "Data columns (total 11 columns):\n",
      " #   Column                Non-Null Count  Dtype  \n",
      "---  ------                --------------  -----  \n",
      " 0   Пол                   2999 non-null   int32  \n",
      " 1   Семейное положение    2999 non-null   int64  \n",
      " 2   Повторный клиент      2999 non-null   int32  \n",
      " 3   Сумма выдачи номинал  2999 non-null   int64  \n",
      " 4   Дата окончание срока  2999 non-null   object \n",
      " 5   Срок                  2999 non-null   int64  \n",
      " 6   Образование           2999 non-null   int32  \n",
      " 7   Тип бизнеса           2999 non-null   int32  \n",
      " 8   Дата списания         2999 non-null   object \n",
      " 9   Выдача                2999 non-null   float64\n",
      " 10  Возраст_код           2999 non-null   float64\n",
      "dtypes: float64(2), int32(4), int64(3), object(2)\n",
      "memory usage: 211.0+ KB\n"
     ]
    }
   ],
   "source": [
    "data.info()"
   ]
  },
  {
   "cell_type": "code",
   "execution_count": 96,
   "id": "1296a028",
   "metadata": {},
   "outputs": [],
   "source": [
    "data=data.drop(['Дата списания','Дата окончание срока'], axis=1)"
   ]
  },
  {
   "cell_type": "code",
   "execution_count": 102,
   "id": "54be7c80",
   "metadata": {},
   "outputs": [],
   "source": [
    "data = data.rename(columns={'Сумма выдачи номинал': 'Issue_amount_nominal'})\n",
    "data = data.rename(columns={'Возраст_код': 'age'})\n",
    "data = data.rename(columns={'Повторный клиент': 'Type_of_client'})\n",
    "data = data.rename(columns={'Тип бизнеса': 'Type_of_business'})\n",
    "data = data.rename(columns={'Пол': 'gender'})\n",
    "data = data.rename(columns={'Выдача': 'issuance'})\n",
    "data = data.rename(columns={'Срок': 'Term'})\n",
    "data = data.rename(columns={'Образование': 'education'})\n",
    "data = data.rename(columns={'Семейное положение': 'Family_status'})"
   ]
  },
  {
   "cell_type": "code",
   "execution_count": 103,
   "id": "3fb16a9b",
   "metadata": {},
   "outputs": [
    {
     "data": {
      "text/html": [
       "<div>\n",
       "<style scoped>\n",
       "    .dataframe tbody tr th:only-of-type {\n",
       "        vertical-align: middle;\n",
       "    }\n",
       "\n",
       "    .dataframe tbody tr th {\n",
       "        vertical-align: top;\n",
       "    }\n",
       "\n",
       "    .dataframe thead th {\n",
       "        text-align: right;\n",
       "    }\n",
       "</style>\n",
       "<table border=\"1\" class=\"dataframe\">\n",
       "  <thead>\n",
       "    <tr style=\"text-align: right;\">\n",
       "      <th></th>\n",
       "      <th>gender</th>\n",
       "      <th>Family_status</th>\n",
       "      <th>Type_of_client</th>\n",
       "      <th>Issue_amount_nominal</th>\n",
       "      <th>Term</th>\n",
       "      <th>education</th>\n",
       "      <th>Type_of_business</th>\n",
       "      <th>issuance</th>\n",
       "      <th>age</th>\n",
       "    </tr>\n",
       "  </thead>\n",
       "  <tbody>\n",
       "    <tr>\n",
       "      <th>gender</th>\n",
       "      <td>1.000000</td>\n",
       "      <td>-0.002699</td>\n",
       "      <td>-0.078414</td>\n",
       "      <td>0.077788</td>\n",
       "      <td>-0.060758</td>\n",
       "      <td>-0.177200</td>\n",
       "      <td>0.061018</td>\n",
       "      <td>-0.068760</td>\n",
       "      <td>-0.204100</td>\n",
       "    </tr>\n",
       "    <tr>\n",
       "      <th>Family_status</th>\n",
       "      <td>-0.002699</td>\n",
       "      <td>1.000000</td>\n",
       "      <td>0.127551</td>\n",
       "      <td>0.057414</td>\n",
       "      <td>0.031162</td>\n",
       "      <td>0.057970</td>\n",
       "      <td>0.043789</td>\n",
       "      <td>0.108004</td>\n",
       "      <td>0.373330</td>\n",
       "    </tr>\n",
       "    <tr>\n",
       "      <th>Type_of_client</th>\n",
       "      <td>-0.078414</td>\n",
       "      <td>0.127551</td>\n",
       "      <td>1.000000</td>\n",
       "      <td>0.065637</td>\n",
       "      <td>0.110411</td>\n",
       "      <td>0.008049</td>\n",
       "      <td>-0.021565</td>\n",
       "      <td>0.297379</td>\n",
       "      <td>0.205831</td>\n",
       "    </tr>\n",
       "    <tr>\n",
       "      <th>Issue_amount_nominal</th>\n",
       "      <td>0.077788</td>\n",
       "      <td>0.057414</td>\n",
       "      <td>0.065637</td>\n",
       "      <td>1.000000</td>\n",
       "      <td>0.392448</td>\n",
       "      <td>-0.134308</td>\n",
       "      <td>0.143825</td>\n",
       "      <td>-0.019370</td>\n",
       "      <td>0.017669</td>\n",
       "    </tr>\n",
       "    <tr>\n",
       "      <th>Term</th>\n",
       "      <td>-0.060758</td>\n",
       "      <td>0.031162</td>\n",
       "      <td>0.110411</td>\n",
       "      <td>0.392448</td>\n",
       "      <td>1.000000</td>\n",
       "      <td>-0.057829</td>\n",
       "      <td>-0.025725</td>\n",
       "      <td>-0.122992</td>\n",
       "      <td>0.084412</td>\n",
       "    </tr>\n",
       "    <tr>\n",
       "      <th>education</th>\n",
       "      <td>-0.177200</td>\n",
       "      <td>0.057970</td>\n",
       "      <td>0.008049</td>\n",
       "      <td>-0.134308</td>\n",
       "      <td>-0.057829</td>\n",
       "      <td>1.000000</td>\n",
       "      <td>0.206588</td>\n",
       "      <td>0.015366</td>\n",
       "      <td>0.083479</td>\n",
       "    </tr>\n",
       "    <tr>\n",
       "      <th>Type_of_business</th>\n",
       "      <td>0.061018</td>\n",
       "      <td>0.043789</td>\n",
       "      <td>-0.021565</td>\n",
       "      <td>0.143825</td>\n",
       "      <td>-0.025725</td>\n",
       "      <td>0.206588</td>\n",
       "      <td>1.000000</td>\n",
       "      <td>-0.045551</td>\n",
       "      <td>-0.085713</td>\n",
       "    </tr>\n",
       "    <tr>\n",
       "      <th>issuance</th>\n",
       "      <td>-0.068760</td>\n",
       "      <td>0.108004</td>\n",
       "      <td>0.297379</td>\n",
       "      <td>-0.019370</td>\n",
       "      <td>-0.122992</td>\n",
       "      <td>0.015366</td>\n",
       "      <td>-0.045551</td>\n",
       "      <td>1.000000</td>\n",
       "      <td>0.139038</td>\n",
       "    </tr>\n",
       "    <tr>\n",
       "      <th>age</th>\n",
       "      <td>-0.204100</td>\n",
       "      <td>0.373330</td>\n",
       "      <td>0.205831</td>\n",
       "      <td>0.017669</td>\n",
       "      <td>0.084412</td>\n",
       "      <td>0.083479</td>\n",
       "      <td>-0.085713</td>\n",
       "      <td>0.139038</td>\n",
       "      <td>1.000000</td>\n",
       "    </tr>\n",
       "  </tbody>\n",
       "</table>\n",
       "</div>"
      ],
      "text/plain": [
       "                        gender  Family_status  Type_of_client  \\\n",
       "gender                1.000000      -0.002699       -0.078414   \n",
       "Family_status        -0.002699       1.000000        0.127551   \n",
       "Type_of_client       -0.078414       0.127551        1.000000   \n",
       "Issue_amount_nominal  0.077788       0.057414        0.065637   \n",
       "Term                 -0.060758       0.031162        0.110411   \n",
       "education            -0.177200       0.057970        0.008049   \n",
       "Type_of_business      0.061018       0.043789       -0.021565   \n",
       "issuance             -0.068760       0.108004        0.297379   \n",
       "age                  -0.204100       0.373330        0.205831   \n",
       "\n",
       "                      Issue_amount_nominal      Term  education  \\\n",
       "gender                            0.077788 -0.060758  -0.177200   \n",
       "Family_status                     0.057414  0.031162   0.057970   \n",
       "Type_of_client                    0.065637  0.110411   0.008049   \n",
       "Issue_amount_nominal              1.000000  0.392448  -0.134308   \n",
       "Term                              0.392448  1.000000  -0.057829   \n",
       "education                        -0.134308 -0.057829   1.000000   \n",
       "Type_of_business                  0.143825 -0.025725   0.206588   \n",
       "issuance                         -0.019370 -0.122992   0.015366   \n",
       "age                               0.017669  0.084412   0.083479   \n",
       "\n",
       "                      Type_of_business  issuance       age  \n",
       "gender                        0.061018 -0.068760 -0.204100  \n",
       "Family_status                 0.043789  0.108004  0.373330  \n",
       "Type_of_client               -0.021565  0.297379  0.205831  \n",
       "Issue_amount_nominal          0.143825 -0.019370  0.017669  \n",
       "Term                         -0.025725 -0.122992  0.084412  \n",
       "education                     0.206588  0.015366  0.083479  \n",
       "Type_of_business              1.000000 -0.045551 -0.085713  \n",
       "issuance                     -0.045551  1.000000  0.139038  \n",
       "age                          -0.085713  0.139038  1.000000  "
      ]
     },
     "execution_count": 103,
     "metadata": {},
     "output_type": "execute_result"
    }
   ],
   "source": [
    "data.corr()"
   ]
  },
  {
   "cell_type": "code",
   "execution_count": 100,
   "id": "11a63502",
   "metadata": {},
   "outputs": [],
   "source": [
    "X=data.drop(['Выдача'],axis=1)\n",
    "y=data['Выдача']"
   ]
  },
  {
   "cell_type": "code",
   "execution_count": 99,
   "id": "c78aed76",
   "metadata": {},
   "outputs": [],
   "source": [
    "X_train, X_test, y_train, y_test = train_test_split(X, y, test_size = 0.3, random_state=14)"
   ]
  },
  {
   "cell_type": "markdown",
   "id": "c09887b8",
   "metadata": {},
   "source": [
    "# SVM(Gausian)"
   ]
  },
  {
   "cell_type": "code",
   "execution_count": 16,
   "id": "2c39a99e",
   "metadata": {},
   "outputs": [
    {
     "data": {
      "text/html": [
       "<style>#sk-container-id-1 {color: black;background-color: white;}#sk-container-id-1 pre{padding: 0;}#sk-container-id-1 div.sk-toggleable {background-color: white;}#sk-container-id-1 label.sk-toggleable__label {cursor: pointer;display: block;width: 100%;margin-bottom: 0;padding: 0.3em;box-sizing: border-box;text-align: center;}#sk-container-id-1 label.sk-toggleable__label-arrow:before {content: \"▸\";float: left;margin-right: 0.25em;color: #696969;}#sk-container-id-1 label.sk-toggleable__label-arrow:hover:before {color: black;}#sk-container-id-1 div.sk-estimator:hover label.sk-toggleable__label-arrow:before {color: black;}#sk-container-id-1 div.sk-toggleable__content {max-height: 0;max-width: 0;overflow: hidden;text-align: left;background-color: #f0f8ff;}#sk-container-id-1 div.sk-toggleable__content pre {margin: 0.2em;color: black;border-radius: 0.25em;background-color: #f0f8ff;}#sk-container-id-1 input.sk-toggleable__control:checked~div.sk-toggleable__content {max-height: 200px;max-width: 100%;overflow: auto;}#sk-container-id-1 input.sk-toggleable__control:checked~label.sk-toggleable__label-arrow:before {content: \"▾\";}#sk-container-id-1 div.sk-estimator input.sk-toggleable__control:checked~label.sk-toggleable__label {background-color: #d4ebff;}#sk-container-id-1 div.sk-label input.sk-toggleable__control:checked~label.sk-toggleable__label {background-color: #d4ebff;}#sk-container-id-1 input.sk-hidden--visually {border: 0;clip: rect(1px 1px 1px 1px);clip: rect(1px, 1px, 1px, 1px);height: 1px;margin: -1px;overflow: hidden;padding: 0;position: absolute;width: 1px;}#sk-container-id-1 div.sk-estimator {font-family: monospace;background-color: #f0f8ff;border: 1px dotted black;border-radius: 0.25em;box-sizing: border-box;margin-bottom: 0.5em;}#sk-container-id-1 div.sk-estimator:hover {background-color: #d4ebff;}#sk-container-id-1 div.sk-parallel-item::after {content: \"\";width: 100%;border-bottom: 1px solid gray;flex-grow: 1;}#sk-container-id-1 div.sk-label:hover label.sk-toggleable__label {background-color: #d4ebff;}#sk-container-id-1 div.sk-serial::before {content: \"\";position: absolute;border-left: 1px solid gray;box-sizing: border-box;top: 0;bottom: 0;left: 50%;z-index: 0;}#sk-container-id-1 div.sk-serial {display: flex;flex-direction: column;align-items: center;background-color: white;padding-right: 0.2em;padding-left: 0.2em;position: relative;}#sk-container-id-1 div.sk-item {position: relative;z-index: 1;}#sk-container-id-1 div.sk-parallel {display: flex;align-items: stretch;justify-content: center;background-color: white;position: relative;}#sk-container-id-1 div.sk-item::before, #sk-container-id-1 div.sk-parallel-item::before {content: \"\";position: absolute;border-left: 1px solid gray;box-sizing: border-box;top: 0;bottom: 0;left: 50%;z-index: -1;}#sk-container-id-1 div.sk-parallel-item {display: flex;flex-direction: column;z-index: 1;position: relative;background-color: white;}#sk-container-id-1 div.sk-parallel-item:first-child::after {align-self: flex-end;width: 50%;}#sk-container-id-1 div.sk-parallel-item:last-child::after {align-self: flex-start;width: 50%;}#sk-container-id-1 div.sk-parallel-item:only-child::after {width: 0;}#sk-container-id-1 div.sk-dashed-wrapped {border: 1px dashed gray;margin: 0 0.4em 0.5em 0.4em;box-sizing: border-box;padding-bottom: 0.4em;background-color: white;}#sk-container-id-1 div.sk-label label {font-family: monospace;font-weight: bold;display: inline-block;line-height: 1.2em;}#sk-container-id-1 div.sk-label-container {text-align: center;}#sk-container-id-1 div.sk-container {/* jupyter's `normalize.less` sets `[hidden] { display: none; }` but bootstrap.min.css set `[hidden] { display: none !important; }` so we also need the `!important` here to be able to override the default hidden behavior on the sphinx rendered scikit-learn.org. See: https://github.com/scikit-learn/scikit-learn/issues/21755 */display: inline-block !important;position: relative;}#sk-container-id-1 div.sk-text-repr-fallback {display: none;}</style><div id=\"sk-container-id-1\" class=\"sk-top-container\"><div class=\"sk-text-repr-fallback\"><pre>SVC()</pre><b>In a Jupyter environment, please rerun this cell to show the HTML representation or trust the notebook. <br />On GitHub, the HTML representation is unable to render, please try loading this page with nbviewer.org.</b></div><div class=\"sk-container\" hidden><div class=\"sk-item\"><div class=\"sk-estimator sk-toggleable\"><input class=\"sk-toggleable__control sk-hidden--visually\" id=\"sk-estimator-id-1\" type=\"checkbox\" checked><label for=\"sk-estimator-id-1\" class=\"sk-toggleable__label sk-toggleable__label-arrow\">SVC</label><div class=\"sk-toggleable__content\"><pre>SVC()</pre></div></div></div></div></div>"
      ],
      "text/plain": [
       "SVC()"
      ]
     },
     "execution_count": 16,
     "metadata": {},
     "output_type": "execute_result"
    }
   ],
   "source": [
    "from sklearn.svm import SVC\n",
    "svclassifier0 = SVC(kernel='rbf')\n",
    "svclassifier0.fit(X_train, y_train)"
   ]
  },
  {
   "cell_type": "code",
   "execution_count": 17,
   "id": "974a4849",
   "metadata": {},
   "outputs": [],
   "source": [
    "y_pred0 = svclassifier0.predict(X_test)"
   ]
  },
  {
   "cell_type": "code",
   "execution_count": 18,
   "id": "7f9bf167",
   "metadata": {},
   "outputs": [
    {
     "ename": "NameError",
     "evalue": "name 'cnf_matrix' is not defined",
     "output_type": "error",
     "traceback": [
      "\u001b[1;31m---------------------------------------------------------------------------\u001b[0m",
      "\u001b[1;31mNameError\u001b[0m                                 Traceback (most recent call last)",
      "Cell \u001b[1;32mIn[18], line 2\u001b[0m\n\u001b[0;32m      1\u001b[0m cnf_matrix0 \u001b[38;5;241m=\u001b[39m confusion_matrix(y_test, y_pred0) \n\u001b[1;32m----> 2\u001b[0m \u001b[38;5;28mprint\u001b[39m(cnf_matrix)\n",
      "\u001b[1;31mNameError\u001b[0m: name 'cnf_matrix' is not defined"
     ]
    }
   ],
   "source": [
    "cnf_matrix0 = confusion_matrix(y_test, y_pred0) \n",
    "print(cnf_matrix)"
   ]
  },
  {
   "cell_type": "code",
   "execution_count": 19,
   "id": "e0ea461e",
   "metadata": {},
   "outputs": [
    {
     "name": "stdout",
     "output_type": "stream",
     "text": [
      "0.81\n"
     ]
    }
   ],
   "source": [
    "SVM_Accur0 = metrics.accuracy_score(y_test,y_pred0)\n",
    "print(SVM_Accur0)"
   ]
  },
  {
   "cell_type": "code",
   "execution_count": 20,
   "id": "b6b06935",
   "metadata": {},
   "outputs": [
    {
     "data": {
      "text/plain": [
       "0.502906976744186"
      ]
     },
     "execution_count": 20,
     "metadata": {},
     "output_type": "execute_result"
    }
   ],
   "source": [
    "metrics.roc_auc_score(y_test, y_pred0)"
   ]
  },
  {
   "cell_type": "markdown",
   "id": "e386c05b",
   "metadata": {},
   "source": [
    "# SVM(Polynomial)"
   ]
  },
  {
   "cell_type": "code",
   "execution_count": 21,
   "id": "fdef2e74",
   "metadata": {},
   "outputs": [
    {
     "data": {
      "text/html": [
       "<style>#sk-container-id-2 {color: black;background-color: white;}#sk-container-id-2 pre{padding: 0;}#sk-container-id-2 div.sk-toggleable {background-color: white;}#sk-container-id-2 label.sk-toggleable__label {cursor: pointer;display: block;width: 100%;margin-bottom: 0;padding: 0.3em;box-sizing: border-box;text-align: center;}#sk-container-id-2 label.sk-toggleable__label-arrow:before {content: \"▸\";float: left;margin-right: 0.25em;color: #696969;}#sk-container-id-2 label.sk-toggleable__label-arrow:hover:before {color: black;}#sk-container-id-2 div.sk-estimator:hover label.sk-toggleable__label-arrow:before {color: black;}#sk-container-id-2 div.sk-toggleable__content {max-height: 0;max-width: 0;overflow: hidden;text-align: left;background-color: #f0f8ff;}#sk-container-id-2 div.sk-toggleable__content pre {margin: 0.2em;color: black;border-radius: 0.25em;background-color: #f0f8ff;}#sk-container-id-2 input.sk-toggleable__control:checked~div.sk-toggleable__content {max-height: 200px;max-width: 100%;overflow: auto;}#sk-container-id-2 input.sk-toggleable__control:checked~label.sk-toggleable__label-arrow:before {content: \"▾\";}#sk-container-id-2 div.sk-estimator input.sk-toggleable__control:checked~label.sk-toggleable__label {background-color: #d4ebff;}#sk-container-id-2 div.sk-label input.sk-toggleable__control:checked~label.sk-toggleable__label {background-color: #d4ebff;}#sk-container-id-2 input.sk-hidden--visually {border: 0;clip: rect(1px 1px 1px 1px);clip: rect(1px, 1px, 1px, 1px);height: 1px;margin: -1px;overflow: hidden;padding: 0;position: absolute;width: 1px;}#sk-container-id-2 div.sk-estimator {font-family: monospace;background-color: #f0f8ff;border: 1px dotted black;border-radius: 0.25em;box-sizing: border-box;margin-bottom: 0.5em;}#sk-container-id-2 div.sk-estimator:hover {background-color: #d4ebff;}#sk-container-id-2 div.sk-parallel-item::after {content: \"\";width: 100%;border-bottom: 1px solid gray;flex-grow: 1;}#sk-container-id-2 div.sk-label:hover label.sk-toggleable__label {background-color: #d4ebff;}#sk-container-id-2 div.sk-serial::before {content: \"\";position: absolute;border-left: 1px solid gray;box-sizing: border-box;top: 0;bottom: 0;left: 50%;z-index: 0;}#sk-container-id-2 div.sk-serial {display: flex;flex-direction: column;align-items: center;background-color: white;padding-right: 0.2em;padding-left: 0.2em;position: relative;}#sk-container-id-2 div.sk-item {position: relative;z-index: 1;}#sk-container-id-2 div.sk-parallel {display: flex;align-items: stretch;justify-content: center;background-color: white;position: relative;}#sk-container-id-2 div.sk-item::before, #sk-container-id-2 div.sk-parallel-item::before {content: \"\";position: absolute;border-left: 1px solid gray;box-sizing: border-box;top: 0;bottom: 0;left: 50%;z-index: -1;}#sk-container-id-2 div.sk-parallel-item {display: flex;flex-direction: column;z-index: 1;position: relative;background-color: white;}#sk-container-id-2 div.sk-parallel-item:first-child::after {align-self: flex-end;width: 50%;}#sk-container-id-2 div.sk-parallel-item:last-child::after {align-self: flex-start;width: 50%;}#sk-container-id-2 div.sk-parallel-item:only-child::after {width: 0;}#sk-container-id-2 div.sk-dashed-wrapped {border: 1px dashed gray;margin: 0 0.4em 0.5em 0.4em;box-sizing: border-box;padding-bottom: 0.4em;background-color: white;}#sk-container-id-2 div.sk-label label {font-family: monospace;font-weight: bold;display: inline-block;line-height: 1.2em;}#sk-container-id-2 div.sk-label-container {text-align: center;}#sk-container-id-2 div.sk-container {/* jupyter's `normalize.less` sets `[hidden] { display: none; }` but bootstrap.min.css set `[hidden] { display: none !important; }` so we also need the `!important` here to be able to override the default hidden behavior on the sphinx rendered scikit-learn.org. See: https://github.com/scikit-learn/scikit-learn/issues/21755 */display: inline-block !important;position: relative;}#sk-container-id-2 div.sk-text-repr-fallback {display: none;}</style><div id=\"sk-container-id-2\" class=\"sk-top-container\"><div class=\"sk-text-repr-fallback\"><pre>SVC(degree=8, kernel=&#x27;poly&#x27;)</pre><b>In a Jupyter environment, please rerun this cell to show the HTML representation or trust the notebook. <br />On GitHub, the HTML representation is unable to render, please try loading this page with nbviewer.org.</b></div><div class=\"sk-container\" hidden><div class=\"sk-item\"><div class=\"sk-estimator sk-toggleable\"><input class=\"sk-toggleable__control sk-hidden--visually\" id=\"sk-estimator-id-2\" type=\"checkbox\" checked><label for=\"sk-estimator-id-2\" class=\"sk-toggleable__label sk-toggleable__label-arrow\">SVC</label><div class=\"sk-toggleable__content\"><pre>SVC(degree=8, kernel=&#x27;poly&#x27;)</pre></div></div></div></div></div>"
      ],
      "text/plain": [
       "SVC(degree=8, kernel='poly')"
      ]
     },
     "execution_count": 21,
     "metadata": {},
     "output_type": "execute_result"
    }
   ],
   "source": [
    "from sklearn.svm import SVC\n",
    "svclassifier1 = SVC(kernel='poly', degree=8)\n",
    "svclassifier1.fit(X_train, y_train)"
   ]
  },
  {
   "cell_type": "code",
   "execution_count": 22,
   "id": "8f9911cd",
   "metadata": {},
   "outputs": [],
   "source": [
    "y_pred1 = svclassifier1.predict(X_test)"
   ]
  },
  {
   "cell_type": "code",
   "execution_count": 24,
   "id": "0a563a23",
   "metadata": {},
   "outputs": [
    {
     "name": "stdout",
     "output_type": "stream",
     "text": [
      "[[  5 167]\n",
      " [  0 728]]\n"
     ]
    }
   ],
   "source": [
    "cnf_matrix1 = confusion_matrix(y_test, y_pred1) \n",
    "print(cnf_matrix1)"
   ]
  },
  {
   "cell_type": "code",
   "execution_count": 26,
   "id": "12ce954a",
   "metadata": {},
   "outputs": [
    {
     "name": "stdout",
     "output_type": "stream",
     "text": [
      "0.8144444444444444\n"
     ]
    }
   ],
   "source": [
    "SVM_Accur1 = metrics.accuracy_score(y_test,y_pred1)\n",
    "print(SVM_Accur1)"
   ]
  },
  {
   "cell_type": "code",
   "execution_count": 27,
   "id": "b88cb9db",
   "metadata": {},
   "outputs": [
    {
     "data": {
      "text/plain": [
       "0.5145348837209303"
      ]
     },
     "execution_count": 27,
     "metadata": {},
     "output_type": "execute_result"
    }
   ],
   "source": [
    "metrics.roc_auc_score(y_test, y_pred1)"
   ]
  },
  {
   "cell_type": "markdown",
   "id": "f9369537",
   "metadata": {},
   "source": [
    "# SVM(Sigmoid)"
   ]
  },
  {
   "cell_type": "code",
   "execution_count": 28,
   "id": "ac8abcb6",
   "metadata": {},
   "outputs": [
    {
     "data": {
      "text/html": [
       "<style>#sk-container-id-3 {color: black;background-color: white;}#sk-container-id-3 pre{padding: 0;}#sk-container-id-3 div.sk-toggleable {background-color: white;}#sk-container-id-3 label.sk-toggleable__label {cursor: pointer;display: block;width: 100%;margin-bottom: 0;padding: 0.3em;box-sizing: border-box;text-align: center;}#sk-container-id-3 label.sk-toggleable__label-arrow:before {content: \"▸\";float: left;margin-right: 0.25em;color: #696969;}#sk-container-id-3 label.sk-toggleable__label-arrow:hover:before {color: black;}#sk-container-id-3 div.sk-estimator:hover label.sk-toggleable__label-arrow:before {color: black;}#sk-container-id-3 div.sk-toggleable__content {max-height: 0;max-width: 0;overflow: hidden;text-align: left;background-color: #f0f8ff;}#sk-container-id-3 div.sk-toggleable__content pre {margin: 0.2em;color: black;border-radius: 0.25em;background-color: #f0f8ff;}#sk-container-id-3 input.sk-toggleable__control:checked~div.sk-toggleable__content {max-height: 200px;max-width: 100%;overflow: auto;}#sk-container-id-3 input.sk-toggleable__control:checked~label.sk-toggleable__label-arrow:before {content: \"▾\";}#sk-container-id-3 div.sk-estimator input.sk-toggleable__control:checked~label.sk-toggleable__label {background-color: #d4ebff;}#sk-container-id-3 div.sk-label input.sk-toggleable__control:checked~label.sk-toggleable__label {background-color: #d4ebff;}#sk-container-id-3 input.sk-hidden--visually {border: 0;clip: rect(1px 1px 1px 1px);clip: rect(1px, 1px, 1px, 1px);height: 1px;margin: -1px;overflow: hidden;padding: 0;position: absolute;width: 1px;}#sk-container-id-3 div.sk-estimator {font-family: monospace;background-color: #f0f8ff;border: 1px dotted black;border-radius: 0.25em;box-sizing: border-box;margin-bottom: 0.5em;}#sk-container-id-3 div.sk-estimator:hover {background-color: #d4ebff;}#sk-container-id-3 div.sk-parallel-item::after {content: \"\";width: 100%;border-bottom: 1px solid gray;flex-grow: 1;}#sk-container-id-3 div.sk-label:hover label.sk-toggleable__label {background-color: #d4ebff;}#sk-container-id-3 div.sk-serial::before {content: \"\";position: absolute;border-left: 1px solid gray;box-sizing: border-box;top: 0;bottom: 0;left: 50%;z-index: 0;}#sk-container-id-3 div.sk-serial {display: flex;flex-direction: column;align-items: center;background-color: white;padding-right: 0.2em;padding-left: 0.2em;position: relative;}#sk-container-id-3 div.sk-item {position: relative;z-index: 1;}#sk-container-id-3 div.sk-parallel {display: flex;align-items: stretch;justify-content: center;background-color: white;position: relative;}#sk-container-id-3 div.sk-item::before, #sk-container-id-3 div.sk-parallel-item::before {content: \"\";position: absolute;border-left: 1px solid gray;box-sizing: border-box;top: 0;bottom: 0;left: 50%;z-index: -1;}#sk-container-id-3 div.sk-parallel-item {display: flex;flex-direction: column;z-index: 1;position: relative;background-color: white;}#sk-container-id-3 div.sk-parallel-item:first-child::after {align-self: flex-end;width: 50%;}#sk-container-id-3 div.sk-parallel-item:last-child::after {align-self: flex-start;width: 50%;}#sk-container-id-3 div.sk-parallel-item:only-child::after {width: 0;}#sk-container-id-3 div.sk-dashed-wrapped {border: 1px dashed gray;margin: 0 0.4em 0.5em 0.4em;box-sizing: border-box;padding-bottom: 0.4em;background-color: white;}#sk-container-id-3 div.sk-label label {font-family: monospace;font-weight: bold;display: inline-block;line-height: 1.2em;}#sk-container-id-3 div.sk-label-container {text-align: center;}#sk-container-id-3 div.sk-container {/* jupyter's `normalize.less` sets `[hidden] { display: none; }` but bootstrap.min.css set `[hidden] { display: none !important; }` so we also need the `!important` here to be able to override the default hidden behavior on the sphinx rendered scikit-learn.org. See: https://github.com/scikit-learn/scikit-learn/issues/21755 */display: inline-block !important;position: relative;}#sk-container-id-3 div.sk-text-repr-fallback {display: none;}</style><div id=\"sk-container-id-3\" class=\"sk-top-container\"><div class=\"sk-text-repr-fallback\"><pre>SVC(kernel=&#x27;sigmoid&#x27;)</pre><b>In a Jupyter environment, please rerun this cell to show the HTML representation or trust the notebook. <br />On GitHub, the HTML representation is unable to render, please try loading this page with nbviewer.org.</b></div><div class=\"sk-container\" hidden><div class=\"sk-item\"><div class=\"sk-estimator sk-toggleable\"><input class=\"sk-toggleable__control sk-hidden--visually\" id=\"sk-estimator-id-3\" type=\"checkbox\" checked><label for=\"sk-estimator-id-3\" class=\"sk-toggleable__label sk-toggleable__label-arrow\">SVC</label><div class=\"sk-toggleable__content\"><pre>SVC(kernel=&#x27;sigmoid&#x27;)</pre></div></div></div></div></div>"
      ],
      "text/plain": [
       "SVC(kernel='sigmoid')"
      ]
     },
     "execution_count": 28,
     "metadata": {},
     "output_type": "execute_result"
    }
   ],
   "source": [
    "svclassifier2 = SVC(kernel='sigmoid')\n",
    "svclassifier2.fit(X_train, y_train)"
   ]
  },
  {
   "cell_type": "code",
   "execution_count": 29,
   "id": "6f877741",
   "metadata": {},
   "outputs": [],
   "source": [
    "y_pred2 = svclassifier2.predict(X_test)"
   ]
  },
  {
   "cell_type": "code",
   "execution_count": 30,
   "id": "c1c9d871",
   "metadata": {},
   "outputs": [
    {
     "name": "stdout",
     "output_type": "stream",
     "text": [
      "[[ 20 152]\n",
      " [104 624]]\n"
     ]
    }
   ],
   "source": [
    "cnf_matrix2 = confusion_matrix(y_test, y_pred2) \n",
    "print(cnf_matrix2)"
   ]
  },
  {
   "cell_type": "code",
   "execution_count": 31,
   "id": "53749850",
   "metadata": {},
   "outputs": [
    {
     "name": "stdout",
     "output_type": "stream",
     "text": [
      "0.7155555555555555\n"
     ]
    }
   ],
   "source": [
    "SVM_Accur2 = metrics.accuracy_score(y_test,y_pred2)\n",
    "print(SVM_Accur2)"
   ]
  },
  {
   "cell_type": "code",
   "execution_count": 32,
   "id": "139027a4",
   "metadata": {},
   "outputs": [
    {
     "data": {
      "text/plain": [
       "0.48671096345514947"
      ]
     },
     "execution_count": 32,
     "metadata": {},
     "output_type": "execute_result"
    }
   ],
   "source": [
    "metrics.roc_auc_score(y_test, y_pred2)"
   ]
  },
  {
   "cell_type": "markdown",
   "id": "4ae7b01c",
   "metadata": {},
   "source": [
    "#Random Forest"
   ]
  },
  {
   "cell_type": "code",
   "execution_count": 33,
   "id": "3fa79b52",
   "metadata": {},
   "outputs": [],
   "source": [
    "from sklearn.ensemble import RandomForestClassifier\n",
    "from sklearn.model_selection import train_test_split\n",
    "from sklearn import metrics"
   ]
  },
  {
   "cell_type": "code",
   "execution_count": 46,
   "id": "1987af68",
   "metadata": {},
   "outputs": [],
   "source": [
    "X=data.drop(['Выдача','Сумма списания'],axis=1)\n",
    "y=data['Выдача']"
   ]
  },
  {
   "cell_type": "code",
   "execution_count": 47,
   "id": "aeab516b",
   "metadata": {},
   "outputs": [],
   "source": [
    "X_train, X_test, y_train, y_test = train_test_split(X, y, test_size = 0.3, random_state=14)"
   ]
  },
  {
   "cell_type": "code",
   "execution_count": 48,
   "id": "36d99974",
   "metadata": {},
   "outputs": [
    {
     "name": "stdout",
     "output_type": "stream",
     "text": [
      "0.9790376369699857\n",
      "0.9722222222222222\n"
     ]
    },
    {
     "name": "stderr",
     "output_type": "stream",
     "text": [
      "C:\\Users\\extre\\anaconda3\\Lib\\site-packages\\sklearn\\linear_model\\_logistic.py:458: ConvergenceWarning: lbfgs failed to converge (status=1):\n",
      "STOP: TOTAL NO. of ITERATIONS REACHED LIMIT.\n",
      "\n",
      "Increase the number of iterations (max_iter) or scale the data as shown in:\n",
      "    https://scikit-learn.org/stable/modules/preprocessing.html\n",
      "Please also refer to the documentation for alternative solver options:\n",
      "    https://scikit-learn.org/stable/modules/linear_model.html#logistic-regression\n",
      "  n_iter_i = _check_optimize_result(\n"
     ]
    }
   ],
   "source": [
    "from sklearn.linear_model import LinearRegression, LogisticRegression\n",
    "logreg=LogisticRegression()\n",
    "logreg.fit(X_train, y_train)\n",
    "y_pred = logreg.predict(X_train)\n",
    "print(logreg.score(X_train, y_train))\n",
    "print(logreg.score(X_test, y_test))"
   ]
  },
  {
   "cell_type": "code",
   "execution_count": 49,
   "id": "521ebf26",
   "metadata": {},
   "outputs": [],
   "source": [
    "rf = RandomForestClassifier(n_estimators=100 , min_samples_split = 10 , random_state=42 , min_samples_leaf = 4 , max_depth = 20)"
   ]
  },
  {
   "cell_type": "code",
   "execution_count": 50,
   "id": "060acc38",
   "metadata": {},
   "outputs": [
    {
     "data": {
      "text/html": [
       "<style>#sk-container-id-6 {color: black;background-color: white;}#sk-container-id-6 pre{padding: 0;}#sk-container-id-6 div.sk-toggleable {background-color: white;}#sk-container-id-6 label.sk-toggleable__label {cursor: pointer;display: block;width: 100%;margin-bottom: 0;padding: 0.3em;box-sizing: border-box;text-align: center;}#sk-container-id-6 label.sk-toggleable__label-arrow:before {content: \"▸\";float: left;margin-right: 0.25em;color: #696969;}#sk-container-id-6 label.sk-toggleable__label-arrow:hover:before {color: black;}#sk-container-id-6 div.sk-estimator:hover label.sk-toggleable__label-arrow:before {color: black;}#sk-container-id-6 div.sk-toggleable__content {max-height: 0;max-width: 0;overflow: hidden;text-align: left;background-color: #f0f8ff;}#sk-container-id-6 div.sk-toggleable__content pre {margin: 0.2em;color: black;border-radius: 0.25em;background-color: #f0f8ff;}#sk-container-id-6 input.sk-toggleable__control:checked~div.sk-toggleable__content {max-height: 200px;max-width: 100%;overflow: auto;}#sk-container-id-6 input.sk-toggleable__control:checked~label.sk-toggleable__label-arrow:before {content: \"▾\";}#sk-container-id-6 div.sk-estimator input.sk-toggleable__control:checked~label.sk-toggleable__label {background-color: #d4ebff;}#sk-container-id-6 div.sk-label input.sk-toggleable__control:checked~label.sk-toggleable__label {background-color: #d4ebff;}#sk-container-id-6 input.sk-hidden--visually {border: 0;clip: rect(1px 1px 1px 1px);clip: rect(1px, 1px, 1px, 1px);height: 1px;margin: -1px;overflow: hidden;padding: 0;position: absolute;width: 1px;}#sk-container-id-6 div.sk-estimator {font-family: monospace;background-color: #f0f8ff;border: 1px dotted black;border-radius: 0.25em;box-sizing: border-box;margin-bottom: 0.5em;}#sk-container-id-6 div.sk-estimator:hover {background-color: #d4ebff;}#sk-container-id-6 div.sk-parallel-item::after {content: \"\";width: 100%;border-bottom: 1px solid gray;flex-grow: 1;}#sk-container-id-6 div.sk-label:hover label.sk-toggleable__label {background-color: #d4ebff;}#sk-container-id-6 div.sk-serial::before {content: \"\";position: absolute;border-left: 1px solid gray;box-sizing: border-box;top: 0;bottom: 0;left: 50%;z-index: 0;}#sk-container-id-6 div.sk-serial {display: flex;flex-direction: column;align-items: center;background-color: white;padding-right: 0.2em;padding-left: 0.2em;position: relative;}#sk-container-id-6 div.sk-item {position: relative;z-index: 1;}#sk-container-id-6 div.sk-parallel {display: flex;align-items: stretch;justify-content: center;background-color: white;position: relative;}#sk-container-id-6 div.sk-item::before, #sk-container-id-6 div.sk-parallel-item::before {content: \"\";position: absolute;border-left: 1px solid gray;box-sizing: border-box;top: 0;bottom: 0;left: 50%;z-index: -1;}#sk-container-id-6 div.sk-parallel-item {display: flex;flex-direction: column;z-index: 1;position: relative;background-color: white;}#sk-container-id-6 div.sk-parallel-item:first-child::after {align-self: flex-end;width: 50%;}#sk-container-id-6 div.sk-parallel-item:last-child::after {align-self: flex-start;width: 50%;}#sk-container-id-6 div.sk-parallel-item:only-child::after {width: 0;}#sk-container-id-6 div.sk-dashed-wrapped {border: 1px dashed gray;margin: 0 0.4em 0.5em 0.4em;box-sizing: border-box;padding-bottom: 0.4em;background-color: white;}#sk-container-id-6 div.sk-label label {font-family: monospace;font-weight: bold;display: inline-block;line-height: 1.2em;}#sk-container-id-6 div.sk-label-container {text-align: center;}#sk-container-id-6 div.sk-container {/* jupyter's `normalize.less` sets `[hidden] { display: none; }` but bootstrap.min.css set `[hidden] { display: none !important; }` so we also need the `!important` here to be able to override the default hidden behavior on the sphinx rendered scikit-learn.org. See: https://github.com/scikit-learn/scikit-learn/issues/21755 */display: inline-block !important;position: relative;}#sk-container-id-6 div.sk-text-repr-fallback {display: none;}</style><div id=\"sk-container-id-6\" class=\"sk-top-container\"><div class=\"sk-text-repr-fallback\"><pre>RandomForestClassifier(max_depth=20, min_samples_leaf=4, min_samples_split=10,\n",
       "                       random_state=42)</pre><b>In a Jupyter environment, please rerun this cell to show the HTML representation or trust the notebook. <br />On GitHub, the HTML representation is unable to render, please try loading this page with nbviewer.org.</b></div><div class=\"sk-container\" hidden><div class=\"sk-item\"><div class=\"sk-estimator sk-toggleable\"><input class=\"sk-toggleable__control sk-hidden--visually\" id=\"sk-estimator-id-6\" type=\"checkbox\" checked><label for=\"sk-estimator-id-6\" class=\"sk-toggleable__label sk-toggleable__label-arrow\">RandomForestClassifier</label><div class=\"sk-toggleable__content\"><pre>RandomForestClassifier(max_depth=20, min_samples_leaf=4, min_samples_split=10,\n",
       "                       random_state=42)</pre></div></div></div></div></div>"
      ],
      "text/plain": [
       "RandomForestClassifier(max_depth=20, min_samples_leaf=4, min_samples_split=10,\n",
       "                       random_state=42)"
      ]
     },
     "execution_count": 50,
     "metadata": {},
     "output_type": "execute_result"
    }
   ],
   "source": [
    "rf.fit(X_train , y_train)\n"
   ]
  },
  {
   "cell_type": "code",
   "execution_count": 52,
   "id": "a0b35783",
   "metadata": {},
   "outputs": [
    {
     "data": {
      "image/png": "[encoded data removed]",
      "text/plain": [
       "<Figure size 640x480 with 1 Axes>"
      ]
     },
     "metadata": {},
     "output_type": "display_data"
    }
   ],
   "source": [
    "y_pred_proba = rf.predict_proba(X_test)[::,1]\n",
    "fpr, tpr, _ = metrics.roc_curve(y_test,  y_pred_proba)\n",
    "auc = metrics.roc_auc_score(y_test, y_pred_proba)\n",
    "plt.plot(fpr,tpr,label=\"AUC=\"+str(auc))\n",
    "plt.legend(loc=4)\n",
    "plt.show()"
   ]
  },
  {
   "cell_type": "markdown",
   "id": "e68429b0",
   "metadata": {},
   "source": [
    "# Dec. Tree"
   ]
  },
  {
   "cell_type": "code",
   "execution_count": 53,
   "id": "16c23b68",
   "metadata": {},
   "outputs": [
    {
     "data": {
      "text/html": [
       "<style>#sk-container-id-7 {color: black;background-color: white;}#sk-container-id-7 pre{padding: 0;}#sk-container-id-7 div.sk-toggleable {background-color: white;}#sk-container-id-7 label.sk-toggleable__label {cursor: pointer;display: block;width: 100%;margin-bottom: 0;padding: 0.3em;box-sizing: border-box;text-align: center;}#sk-container-id-7 label.sk-toggleable__label-arrow:before {content: \"▸\";float: left;margin-right: 0.25em;color: #696969;}#sk-container-id-7 label.sk-toggleable__label-arrow:hover:before {color: black;}#sk-container-id-7 div.sk-estimator:hover label.sk-toggleable__label-arrow:before {color: black;}#sk-container-id-7 div.sk-toggleable__content {max-height: 0;max-width: 0;overflow: hidden;text-align: left;background-color: #f0f8ff;}#sk-container-id-7 div.sk-toggleable__content pre {margin: 0.2em;color: black;border-radius: 0.25em;background-color: #f0f8ff;}#sk-container-id-7 input.sk-toggleable__control:checked~div.sk-toggleable__content {max-height: 200px;max-width: 100%;overflow: auto;}#sk-container-id-7 input.sk-toggleable__control:checked~label.sk-toggleable__label-arrow:before {content: \"▾\";}#sk-container-id-7 div.sk-estimator input.sk-toggleable__control:checked~label.sk-toggleable__label {background-color: #d4ebff;}#sk-container-id-7 div.sk-label input.sk-toggleable__control:checked~label.sk-toggleable__label {background-color: #d4ebff;}#sk-container-id-7 input.sk-hidden--visually {border: 0;clip: rect(1px 1px 1px 1px);clip: rect(1px, 1px, 1px, 1px);height: 1px;margin: -1px;overflow: hidden;padding: 0;position: absolute;width: 1px;}#sk-container-id-7 div.sk-estimator {font-family: monospace;background-color: #f0f8ff;border: 1px dotted black;border-radius: 0.25em;box-sizing: border-box;margin-bottom: 0.5em;}#sk-container-id-7 div.sk-estimator:hover {background-color: #d4ebff;}#sk-container-id-7 div.sk-parallel-item::after {content: \"\";width: 100%;border-bottom: 1px solid gray;flex-grow: 1;}#sk-container-id-7 div.sk-label:hover label.sk-toggleable__label {background-color: #d4ebff;}#sk-container-id-7 div.sk-serial::before {content: \"\";position: absolute;border-left: 1px solid gray;box-sizing: border-box;top: 0;bottom: 0;left: 50%;z-index: 0;}#sk-container-id-7 div.sk-serial {display: flex;flex-direction: column;align-items: center;background-color: white;padding-right: 0.2em;padding-left: 0.2em;position: relative;}#sk-container-id-7 div.sk-item {position: relative;z-index: 1;}#sk-container-id-7 div.sk-parallel {display: flex;align-items: stretch;justify-content: center;background-color: white;position: relative;}#sk-container-id-7 div.sk-item::before, #sk-container-id-7 div.sk-parallel-item::before {content: \"\";position: absolute;border-left: 1px solid gray;box-sizing: border-box;top: 0;bottom: 0;left: 50%;z-index: -1;}#sk-container-id-7 div.sk-parallel-item {display: flex;flex-direction: column;z-index: 1;position: relative;background-color: white;}#sk-container-id-7 div.sk-parallel-item:first-child::after {align-self: flex-end;width: 50%;}#sk-container-id-7 div.sk-parallel-item:last-child::after {align-self: flex-start;width: 50%;}#sk-container-id-7 div.sk-parallel-item:only-child::after {width: 0;}#sk-container-id-7 div.sk-dashed-wrapped {border: 1px dashed gray;margin: 0 0.4em 0.5em 0.4em;box-sizing: border-box;padding-bottom: 0.4em;background-color: white;}#sk-container-id-7 div.sk-label label {font-family: monospace;font-weight: bold;display: inline-block;line-height: 1.2em;}#sk-container-id-7 div.sk-label-container {text-align: center;}#sk-container-id-7 div.sk-container {/* jupyter's `normalize.less` sets `[hidden] { display: none; }` but bootstrap.min.css set `[hidden] { display: none !important; }` so we also need the `!important` here to be able to override the default hidden behavior on the sphinx rendered scikit-learn.org. See: https://github.com/scikit-learn/scikit-learn/issues/21755 */display: inline-block !important;position: relative;}#sk-container-id-7 div.sk-text-repr-fallback {display: none;}</style><div id=\"sk-container-id-7\" class=\"sk-top-container\"><div class=\"sk-text-repr-fallback\"><pre>DecisionTreeClassifier(max_depth=1)</pre><b>In a Jupyter environment, please rerun this cell to show the HTML representation or trust the notebook. <br />On GitHub, the HTML representation is unable to render, please try loading this page with nbviewer.org.</b></div><div class=\"sk-container\" hidden><div class=\"sk-item\"><div class=\"sk-estimator sk-toggleable\"><input class=\"sk-toggleable__control sk-hidden--visually\" id=\"sk-estimator-id-7\" type=\"checkbox\" checked><label for=\"sk-estimator-id-7\" class=\"sk-toggleable__label sk-toggleable__label-arrow\">DecisionTreeClassifier</label><div class=\"sk-toggleable__content\"><pre>DecisionTreeClassifier(max_depth=1)</pre></div></div></div></div></div>"
      ],
      "text/plain": [
       "DecisionTreeClassifier(max_depth=1)"
      ]
     },
     "execution_count": 53,
     "metadata": {},
     "output_type": "execute_result"
    }
   ],
   "source": [
    "from sklearn.tree import DecisionTreeClassifier\n",
    "model_tree = DecisionTreeClassifier(max_depth=1)\n",
    "model_tree.fit(X_train, y_train)"
   ]
  },
  {
   "cell_type": "code",
   "execution_count": 54,
   "id": "56691113",
   "metadata": {},
   "outputs": [],
   "source": [
    "y_predict = model_tree.predict(X_test)"
   ]
  },
  {
   "cell_type": "code",
   "execution_count": 57,
   "id": "2519d8b3",
   "metadata": {},
   "outputs": [
    {
     "name": "stdout",
     "output_type": "stream",
     "text": [
      "1.0\n"
     ]
    }
   ],
   "source": [
    "print (accuracy_score(y_test,y_predict))"
   ]
  },
  {
   "cell_type": "markdown",
   "id": "28a03b8d",
   "metadata": {},
   "source": [
    "# Rand. Forest"
   ]
  },
  {
   "cell_type": "code",
   "execution_count": 58,
   "id": "fc7adaa1",
   "metadata": {},
   "outputs": [
    {
     "name": "stdout",
     "output_type": "stream",
     "text": [
      "1.0\n"
     ]
    }
   ],
   "source": [
    "forest1 =  RandomForestClassifier(criterion='gini', n_estimators =250 , random_state = 200, n_jobs = 2)\n",
    "forest1.fit(X_train, y_train)\n",
    "y_predict = forest1.predict(X_test)  \n",
    "forest1auc = metrics.roc_auc_score(y_test,y_predict)\n",
    "print(forest1auc)"
   ]
  },
  {
   "cell_type": "code",
   "execution_count": 101,
   "id": "570da1b0",
   "metadata": {},
   "outputs": [],
   "source": [
    "models = {\n",
    "    \"ModelTree.pkl\": model_tree,\n",
    "    \"Forest.pkl\": rf,\n",
    "    \"Forest(par).pkl\": forest1,\n",
    "    \"LogReg.pkl\": logreg,\n",
    "}\n",
    "\n",
    "for filename, model in models.items():\n",
    "    with open(filename, \"wb\") as pickle_out:\n",
    "        pickle.dump(model, pickle_out)"
   ]
  }
 ],
 "metadata": {
  "kernelspec": {
   "display_name": "Python 3 (ipykernel)",
   "language": "python",
   "name": "python3"
  },
  "language_info": {
   "codemirror_mode": {
    "name": "ipython",
    "version": 3
   },
   "file_extension": ".py",
   "mimetype": "text/x-python",
   "name": "python",
   "nbconvert_exporter": "python",
   "pygments_lexer": "ipython3",
   "version": "3.11.3"
  }
 },
 "nbformat": 4,
 "nbformat_minor": 5
}
